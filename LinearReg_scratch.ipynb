{
  "nbformat": 4,
  "nbformat_minor": 0,
  "metadata": {
    "colab": {
      "provenance": [],
      "mount_file_id": "1UOyGFrNMADkuhICgdyoXfKbtG-vCdzAQ",
      "authorship_tag": "ABX9TyPEcgGIuhN6Pb2wSUkX10OK",
      "include_colab_link": true
    },
    "kernelspec": {
      "name": "python3",
      "display_name": "Python 3"
    },
    "language_info": {
      "name": "python"
    }
  },
  "cells": [
    {
      "cell_type": "markdown",
      "metadata": {
        "id": "view-in-github",
        "colab_type": "text"
      },
      "source": [
        "<a href=\"https://colab.research.google.com/github/Jay-Dodhiawala/LinearRegression_fromScratch/blob/main/LinearReg_scratch.ipynb\" target=\"_parent\"><img src=\"https://colab.research.google.com/assets/colab-badge.svg\" alt=\"Open In Colab\"/></a>"
      ]
    },
    {
      "cell_type": "code",
      "source": [
        "import torch\n",
        "import numpy as np"
      ],
      "metadata": {
        "id": "6nAVnaQD9m2b"
      },
      "execution_count": 71,
      "outputs": []
    },
    {
      "cell_type": "markdown",
      "source": [
        "**Creating dummy data**"
      ],
      "metadata": {
        "id": "KR1tSPB-cKzu"
      }
    },
    {
      "cell_type": "code",
      "source": [
        "inputs = np.array([[73., 67, 43],\n",
        "                   [91, 88, 64],\n",
        "                   [87, 134, 58],\n",
        "                   [102, 43, 37],\n",
        "                   [69, 96, 70]])"
      ],
      "metadata": {
        "id": "rXbnyg_H9nCA"
      },
      "execution_count": 72,
      "outputs": []
    },
    {
      "cell_type": "code",
      "source": [
        "targets = np.array([[56., 70],\n",
        "                    [81, 101],\n",
        "                    [119, 133],\n",
        "                    [22, 37],\n",
        "                    [103, 119]])"
      ],
      "metadata": {
        "id": "HmeeS-ye9nIy"
      },
      "execution_count": 73,
      "outputs": []
    },
    {
      "cell_type": "code",
      "source": [
        "inputs = torch.from_numpy(inputs)\n",
        "targets = torch.from_numpy(targets)"
      ],
      "metadata": {
        "id": "FDzA2qIB9nPL"
      },
      "execution_count": 74,
      "outputs": []
    },
    {
      "cell_type": "code",
      "source": [
        "num_of_input = inputs.shape[1]\n",
        "num_of_target = targets.shape[1]"
      ],
      "metadata": {
        "id": "-irsiE6Wgvtf"
      },
      "execution_count": 75,
      "outputs": []
    },
    {
      "cell_type": "code",
      "source": [
        "w = torch.randn(num_of_target,num_of_input, requires_grad=True)\n",
        "b = torch.randn(num_of_target, requires_grad=True)\n",
        "w,b"
      ],
      "metadata": {
        "colab": {
          "base_uri": "https://localhost:8080/"
        },
        "id": "DjOJ_B2jdFXU",
        "outputId": "704d3df1-2a87-4f3b-b3b6-f1bde4bf392b"
      },
      "execution_count": 76,
      "outputs": [
        {
          "output_type": "execute_result",
          "data": {
            "text/plain": [
              "(tensor([[-0.7026,  0.2465,  0.9425],\n",
              "         [ 0.5675,  0.4340,  1.0378]], requires_grad=True),\n",
              " tensor([ 0.7469, -0.6866], requires_grad=True))"
            ]
          },
          "metadata": {},
          "execution_count": 76
        }
      ]
    },
    {
      "cell_type": "code",
      "source": [
        "def model(x):\n",
        "  return x @ w.t() + b"
      ],
      "metadata": {
        "id": "dRUONRaJdFVC"
      },
      "execution_count": 77,
      "outputs": []
    },
    {
      "cell_type": "code",
      "source": [
        "preds = model(inputs)\n",
        "preds"
      ],
      "metadata": {
        "colab": {
          "base_uri": "https://localhost:8080/"
        },
        "id": "ERcCP9q9dFSW",
        "outputId": "ffb04442-a5d3-40d4-b6a4-571a76622d0b"
      },
      "execution_count": 78,
      "outputs": [
        {
          "output_type": "execute_result",
          "data": {
            "text/plain": [
              "tensor([[  6.4989, 114.4407],\n",
              "        [ 18.8207, 155.5625],\n",
              "        [ 27.3159, 167.0297],\n",
              "        [-25.4481, 114.2543],\n",
              "        [ 41.9052, 152.7772]], grad_fn=<AddBackward0>)"
            ]
          },
          "metadata": {},
          "execution_count": 78
        }
      ]
    },
    {
      "cell_type": "code",
      "source": [
        "def mse(p , t):\n",
        "  error = p - t\n",
        "  return torch.sum(error * error) / error.numel()"
      ],
      "metadata": {
        "id": "1b9lNxbKdFPs"
      },
      "execution_count": 79,
      "outputs": []
    },
    {
      "cell_type": "code",
      "source": [
        "loss = mse(preds, targets)\n",
        "print(loss)"
      ],
      "metadata": {
        "colab": {
          "base_uri": "https://localhost:8080/"
        },
        "id": "2EWy2q4_dFNH",
        "outputId": "41501b36-6cce-4178-f154-5e3276958087"
      },
      "execution_count": 80,
      "outputs": [
        {
          "output_type": "stream",
          "name": "stdout",
          "text": [
            "tensor(3392.5679, grad_fn=<DivBackward0>)\n"
          ]
        }
      ]
    },
    {
      "cell_type": "code",
      "source": [
        "loss.backward()"
      ],
      "metadata": {
        "id": "xmPsHsQ-dFJ2"
      },
      "execution_count": 81,
      "outputs": []
    },
    {
      "cell_type": "code",
      "source": [
        "with torch.no_grad():\n",
        "  w -= w.grad * 1e-5\n",
        "  b -= b.grad * 1e-5"
      ],
      "metadata": {
        "id": "vm45GEyrdFEv"
      },
      "execution_count": 82,
      "outputs": []
    },
    {
      "cell_type": "code",
      "source": [
        "loss = mse(model(inputs), targets)\n",
        "print(loss)"
      ],
      "metadata": {
        "colab": {
          "base_uri": "https://localhost:8080/"
        },
        "id": "a8KVmKHbdE5f",
        "outputId": "cbaa85b1-5eba-4ffc-fef2-ab9db8d86940"
      },
      "execution_count": 83,
      "outputs": [
        {
          "output_type": "stream",
          "name": "stdout",
          "text": [
            "tensor(2369.0010, grad_fn=<DivBackward0>)\n"
          ]
        }
      ]
    },
    {
      "cell_type": "code",
      "source": [
        "w.grad.zero_()\n",
        "b.grad.zero_() "
      ],
      "metadata": {
        "colab": {
          "base_uri": "https://localhost:8080/"
        },
        "id": "7bwYv5NDkW2a",
        "outputId": "1c7c31e9-b273-4eb4-b6c1-4e40f6d40580"
      },
      "execution_count": 84,
      "outputs": [
        {
          "output_type": "execute_result",
          "data": {
            "text/plain": [
              "tensor([0., 0.])"
            ]
          },
          "metadata": {},
          "execution_count": 84
        }
      ]
    },
    {
      "cell_type": "code",
      "source": [
        "for i in  range(10000):\n",
        "  preds = model(inputs)\n",
        "  loss = mse(preds, targets)\n",
        "  loss.backward()\n",
        "  with torch.no_grad():\n",
        "    w -= w.grad * 1e-5\n",
        "    b -= b.grad * 1e-5\n",
        "    w.grad.zero_()\n",
        "    b.grad.zero_()  "
      ],
      "metadata": {
        "id": "kWC0RvM8lOzT"
      },
      "execution_count": 85,
      "outputs": []
    },
    {
      "cell_type": "markdown",
      "source": [
        "Checking for loss how good is our model"
      ],
      "metadata": {
        "id": "E7buhA4JlySD"
      }
    },
    {
      "cell_type": "code",
      "source": [
        "preds = model(inputs)\n",
        "loss = mse(preds, targets)\n",
        "print(loss)"
      ],
      "metadata": {
        "colab": {
          "base_uri": "https://localhost:8080/"
        },
        "id": "F7ErouwNlyIb",
        "outputId": "f4b31b7c-6d9c-4ca5-ea5f-800d10d2d608"
      },
      "execution_count": 86,
      "outputs": [
        {
          "output_type": "stream",
          "name": "stdout",
          "text": [
            "tensor(0.5159, grad_fn=<DivBackward0>)\n"
          ]
        }
      ]
    },
    {
      "cell_type": "code",
      "source": [
        "preds"
      ],
      "metadata": {
        "colab": {
          "base_uri": "https://localhost:8080/"
        },
        "id": "6V9dxgqhmBB-",
        "outputId": "7b572a30-4405-44f1-ff3c-2102d90359d7"
      },
      "execution_count": 87,
      "outputs": [
        {
          "output_type": "execute_result",
          "data": {
            "text/plain": [
              "tensor([[ 57.2898,  70.1925],\n",
              "        [ 82.1292, 100.7437],\n",
              "        [118.6716, 132.9763],\n",
              "        [ 21.0655,  37.0297],\n",
              "        [101.9415, 119.1202]], grad_fn=<AddBackward0>)"
            ]
          },
          "metadata": {},
          "execution_count": 87
        }
      ]
    },
    {
      "cell_type": "code",
      "source": [
        "targets"
      ],
      "metadata": {
        "colab": {
          "base_uri": "https://localhost:8080/"
        },
        "id": "5pnVDL2EmOpf",
        "outputId": "bf43b439-3bd9-468c-e826-8c0cbbd1a049"
      },
      "execution_count": 88,
      "outputs": [
        {
          "output_type": "execute_result",
          "data": {
            "text/plain": [
              "tensor([[ 56,  70],\n",
              "        [ 81, 101],\n",
              "        [119, 133],\n",
              "        [ 22,  37],\n",
              "        [103, 119]])"
            ]
          },
          "metadata": {},
          "execution_count": 88
        }
      ]
    },
    {
      "cell_type": "code",
      "source": [],
      "metadata": {
        "id": "qhlG5TKSmPaV"
      },
      "execution_count": 88,
      "outputs": []
    }
  ]
}